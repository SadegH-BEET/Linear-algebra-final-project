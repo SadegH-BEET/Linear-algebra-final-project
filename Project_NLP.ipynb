{
  "cells": [
    {
      "cell_type": "markdown",
      "metadata": {
        "id": "HE3B6myY_6p_"
      },
      "source": [
        "# Latent Semantic Analysis"
      ]
    },
    {
      "cell_type": "markdown",
      "metadata": {
        "id": "s5H3OUMA_6qE"
      },
      "source": [
        "## Introduction"
      ]
    },
    {
      "cell_type": "markdown",
      "metadata": {
        "id": "z7FVxaHR_6qF"
      },
      "source": [
        "Linear algebra plays a pivotal role in various fields, offering powerful tools\n",
        "and techniques for solving complex problems and extracting meaningful insights from data. One intriguing application of linear algebra in the realm of natural language processing and information retrieval is Latent Semantic Analysis (LSA). LSA is a mathematical and statistical method that involves the application of singular value decomposition (SVD) to large datasets, commonly represented in matrix form, with the aim of uncovering latent semantic structures within the data."
      ]
    },
    {
      "cell_type": "markdown",
      "metadata": {
        "id": "ig7FXfY0_6qG"
      },
      "source": [
        "## Dataset"
      ]
    },
    {
      "cell_type": "markdown",
      "metadata": {
        "id": "yrJ17hdo_6qG"
      },
      "source": [
        "\n",
        "The fetch_20newsgroups dataset from scikit-learn's datasets module is a popular text dataset commonly used for natural language processing and machine learning tasks, particularly for text classification and clustering. This dataset comprises a collection of approximately 20,000 newsgroup documents, spanning 20 different newsgroups or categories. Each newsgroup represents discussions on a specific topic or theme, and the dataset as a whole reflects the diversity of topics discussed in online forums during the late 1990s. In this assignment, We'll only use 5 of the 20 newsgroups for simplicity and efficiency."
      ]
    },
    {
      "cell_type": "code",
      "execution_count": 3,
      "metadata": {
        "id": "igoW69rX_6qH"
      },
      "outputs": [],
      "source": [
        "from sklearn.datasets import fetch_20newsgroups\n",
        "\n",
        "categories =  ['alt.atheism', 'soc.religion.christian', 'comp.graphics', 'sci.electronics', 'sci.space']\n",
        "train = fetch_20newsgroups(subset='train', categories=categories, shuffle=True, random_state=42)"
      ]
    },
    {
      "cell_type": "markdown",
      "metadata": {
        "id": "vacryf2Z_6qJ"
      },
      "source": [
        "## Demonstration"
      ]
    },
    {
      "cell_type": "code",
      "execution_count": 4,
      "metadata": {
        "colab": {
          "base_uri": "https://localhost:8080/"
        },
        "id": "ezkLpyXg_6qJ",
        "outputId": "c36a0c7e-5c1b-43b2-9b14-52dfb9bf654d"
      },
      "outputs": [
        {
          "output_type": "stream",
          "name": "stdout",
          "text": [
            "From: halsall@murray.fordham.edu (Paul Halsall)\n",
            "Subject: Catholic Liturgy\n",
            "Reply-To: halsall@murray.fordham.edu\n",
            "Organization: J. Random Misconfigured Site\n",
            "Lines: 60\n",
            "\n",
            "\n",
            "\tThe problems with Catholic liturgy are likely to continue for\n",
            "some time.  The problem is, in a nutshell, this: the Liturgy is a\n",
            "symbolic action - in other words Catholics do [or should] believe that\n",
            "the _signs_ during the mass - Water, Blessings, Vestments, Altar,\n",
            "Relics, etc - are real. That is the sprinkling of water bestows real,\n",
            "almost tangible, holiness, the Vestments are a real indication of real\n",
            "sacred time. The point of a _symbol_ is that it is understood by all\n",
            "to be connected to an underlying REAL referent. This kind of thinking\n",
            "precludes analysis; holy water is not holy because of anything, it\n",
            "simply IS holy.\n",
            "\n",
            "But, modern westerners find it extremely difficult, especially if\n",
            "well- educated, to think of the mass as a symbol. We are more likely\n",
            "to see it as a _sign_, ie an action that represents grace, but which\n",
            "could be replaced with other signs. In concrete terms, this means the\n",
            "mass has become a commercial for God's grace rather than the real\n",
            "thing. You can mess around with a commercial in a way you wouldn't\n",
            "dare with the real thing [ask Coca-Cola Co.!]. These attitudes have\n",
            "been encouraged by Liturgy workshops, etc. which instead of focusing\n",
            "on _how_ to do do liturgy, have focused on how to create a meaning in\n",
            "liturgy. You can only create signs, symbols have to come from God [or\n",
            "the heart, or somewhere deeper than analysis. The most dramatic\n",
            "example of this shift in understanding has been in the treatment of\n",
            "the sacred species [the consecrated host and wine]. Now, with pita\n",
            "bread etc, it is common to come away from the altar with hands covered\n",
            "in particles. If the Host is a sign of Grace, this isnt and issue; but\n",
            "Catholics in the past would have been distraught at this real\n",
            "desacration of the real symbol of Jesus' body.\n",
            "\n",
            "Modern Catholic liturgy  is caught in this epistemological shift. We\n",
            "try to perfrom the old rites, but then we have some liturgomaniac\n",
            "priest get up and 'explain' what we are doing - so we stop doing it and\n",
            "start pretending to do it. This is not a soul filling experience.\n",
            "It doesn't help BTW that we have got stuck witha huge amount of two and\n",
            "three chord ersatz-folk music [again a result of mis-analysis: complicated\n",
            "tunes are in fact easier to remember than simple ones - this was the\n",
            "genius of Wesley and the 19C Anglican hymn writers]. Taize' is only\n",
            "slightly better.\n",
            "\n",
            "What are we to do? Well I suggest rejecting the parish system if it\n",
            "doesn't work for you. Search out a Church where the liturgy is well\n",
            "prepared not well-explained. They exist in every city. This is not BTW\n",
            "a matter of particular style: the music might be old or new. It is\n",
            "the attitude of the church that counts. Also, note that a conservative\n",
            "liturgy - harking back to pre-Vatican II days, does not necessarily mean\n",
            "the Church will be socially conservative.\n",
            "\n",
            "In NYC I can recommend:\n",
            "\tCorpus Christi - W 12st St.\n",
            "\tCorpus Christi - W 12st St. - very conservative liturgy, \n",
            "\tSt. Joseph's, Greenwich Village.  - Modern, \"clean\", largely gay\n",
            "\tOratorian Church, Brooklyn - Very beautiful\n",
            "\n",
            "Avoid, anywhere, anytime a church with electric candles.\n",
            "\n",
            "Happy Easter: Christos Aneste', Christos Voskrezhne, Christ is Risen\n",
            "\n",
            "Paul Halsall\n",
            "Halsall@murray.fordham.edu\n",
            "\n",
            "2847\n"
          ]
        }
      ],
      "source": [
        "print(train.data[0])\n",
        "print(len(train.data))"
      ]
    },
    {
      "cell_type": "markdown",
      "metadata": {
        "id": "7Q_Z-_GV_6qK"
      },
      "source": [
        "## Document-term co-occurrence Matrix"
      ]
    },
    {
      "cell_type": "markdown",
      "metadata": {
        "id": "pznI2mlz_6qK"
      },
      "source": [
        "In a document-term co-occurrence matrix, each row corresponds to a document in the dataset, and each column corresponds to a unique term. The entry in cell $M_{ij}$ represents the frequency of term $j$ occurring in document\n",
        "$i$. Now create the co-occurrence matrix using `CountVectorizer`.\n",
        "analyze the sparsity of $M$ and $M^TM$."
      ]
    },
    {
      "cell_type": "code",
      "execution_count": 5,
      "metadata": {
        "colab": {
          "base_uri": "https://localhost:8080/"
        },
        "id": "H_iMqzar_6qL",
        "outputId": "189774eb-b2e9-447b-db5b-7a7ba2dcbf91"
      },
      "outputs": [
        {
          "output_type": "stream",
          "name": "stdout",
          "text": [
            "shape:   (2847, 40182)\n",
            "is sparse:   True\n",
            "sparsity:   99.61%\n",
            "shape:   (40182, 40182)\n",
            "is sparse:   True\n",
            "sparsity:   96.20%\n"
          ]
        }
      ],
      "source": [
        "from sklearn.feature_extraction.text import CountVectorizer\n",
        "import scipy.sparse as sp\n",
        "\n",
        "\n",
        "def vectorize(train_data):\n",
        "    # TODO: Vectorize the training data using count vectorizer\n",
        "    vectorizer = CountVectorizer()\n",
        "    X = vectorizer.fit_transform(train_data)\n",
        "    return vectorizer , X\n",
        "\n",
        "\n",
        "\n",
        "def analyze(data):\n",
        "    # TODO: print Shape, Is Sparse and Sparsity using scipy\n",
        "    print(\"shape:  \",data.shape)\n",
        "    print(\"is sparse:  \",sp.issparse(data))\n",
        "    print(\"sparsity:  \",format(1.0-(sp.csr_matrix.count_nonzero(data)/(data.shape[0]*data.shape[1])),\".2%\"))\n",
        "\n",
        "\n",
        "\n",
        "\n",
        "count_vect, X_train_counts = vectorize(train.data)\n",
        "analyze(X_train_counts)\n",
        "C = X_train_counts.T * X_train_counts\n",
        "analyze(C)"
      ]
    },
    {
      "cell_type": "markdown",
      "metadata": {
        "id": "3uBEAXeb_6qL"
      },
      "source": [
        "## Singular Value Decomposition"
      ]
    },
    {
      "cell_type": "markdown",
      "metadata": {
        "id": "u1jsGF6q_6qL"
      },
      "source": [
        "The next step involves finding the Singular Value Decomposition (SVD) matrix and embedding the data into a reduced-dimensional space. Describe the process of obtaining the SVD for the document-term co-occurrence matrix. What are the resulting matrices $(U, Σ, V^T)$, and how do they relate to the original matrix."
      ]
    },
    {
      "cell_type": "code",
      "execution_count": 6,
      "metadata": {
        "colab": {
          "base_uri": "https://localhost:8080/"
        },
        "id": "-Zy-c9sk_6qM",
        "outputId": "3a687507-07a2-41f4-c039-e39f616086c5"
      },
      "outputs": [
        {
          "output_type": "stream",
          "name": "stdout",
          "text": [
            "U: (40182, 2)\n",
            "S: (2,)\n",
            "V^H: (2, 40182)\n"
          ]
        }
      ],
      "source": [
        "from scipy.sparse.linalg import svds\n",
        "k = 2\n",
        "\n",
        "u, s, vh = svds(C.astype(\"float\"), k)\n",
        "print(f'U: {u.shape}')\n",
        "print(f'S: {s.shape}')\n",
        "print(f'V^H: {vh.shape}')"
      ]
    },
    {
      "cell_type": "markdown",
      "metadata": {
        "id": "wobdogQY_6qM"
      },
      "source": [
        "Define the concept of choosing the top-k singular values in the context of the Σ matrix obtained from SVD. What does it mean to truncate the singular values, and how does this process contribute to dimensionality reduction. Discuss the criteria or considerations involved in selecting an appropriate value for k. How might the choice of k impact the quality of the resulting reduced-dimensional space and the representation of latent semantic structures."
      ]
    },
    {
      "cell_type": "markdown",
      "source": [
        "**Answer:**The number of singular values to keep is a hyperparameter. The higher the number of singular values kept, we stored more details and so  restored data will be more accurate but the calculations become more complex, The smaller the number of singular values we hold, the smaller the matrixs and the less detailed, but the higher the calculation speed."
      ],
      "metadata": {
        "id": "D91BzFTRZeYt"
      }
    },
    {
      "cell_type": "markdown",
      "metadata": {
        "id": "33QS-0a3_6qM"
      },
      "source": [
        "Calculate the new matrix resulting from the truncated SVD with the chosen top-k singular values."
      ]
    },
    {
      "cell_type": "code",
      "execution_count": null,
      "metadata": {
        "id": "54hy2OoD_6qM"
      },
      "outputs": [],
      "source": [
        "import numpy as np\n",
        "B= np.matmul(u,np.matmul(np.diag(s),vh))"
      ]
    },
    {
      "cell_type": "markdown",
      "metadata": {
        "id": "hyZ8MMkT_6qN"
      },
      "source": [
        "Discuss the interpretation of the resulting matrices U and V. How do these matrices contribute to the understanding of semantic relationships between documents and terms."
      ]
    },
    {
      "cell_type": "markdown",
      "source": [
        "**Answer:**As we read in the slides , if A=UΣV ,coloumns of U are eigenvectors of AtA and coloumns of V are eigenvectors of AAt,so\n",
        "coloumns of U are eigenvectors of CtC and coloumns of V are eigenvectors of CCt and By reducing the amount of K, the number of these vectors decreases"
      ],
      "metadata": {
        "id": "pHHYYiC2tM7M"
      }
    },
    {
      "cell_type": "markdown",
      "metadata": {
        "id": "w1RV8Vv2_6qN"
      },
      "source": [
        "## Word Embedding"
      ]
    },
    {
      "cell_type": "markdown",
      "metadata": {
        "id": "oC4sZCgs_6qN"
      },
      "source": [
        "Word embedding is a technique used to map words from a vocabulary to vectors of real numbers. These vectors capture the semantic relationships between words in a geometric space, where words that share similar meanings are mapped to similar vectors. Word embedding is a popular approach in natural language processing and information retrieval, and is commonly used in the development of language models in machine learning. We use the $i$ th row of $U$ as the embedding vector for the $i$ th word in the vocabulary."
      ]
    },
    {
      "cell_type": "code",
      "execution_count": 7,
      "metadata": {
        "colab": {
          "base_uri": "https://localhost:8080/"
        },
        "id": "7K5UU4VD_6qN",
        "outputId": "8dc583c5-84ba-4146-cc82-729ff0500cac"
      },
      "outputs": [
        {
          "output_type": "stream",
          "name": "stdout",
          "text": [
            "similarity of `god` and `jesus`: 0.9987103687591984\n",
            "similarity of `god` and `devil`: 0.9982879422191722\n",
            "similarity of `god` and `soccer`: -0.6782298264133695\n",
            "similarity of `tiger` and `rabbit`: 0.9412811922092554\n",
            "similarity of `tiger` and `earth`: 0.42320317694080567\n",
            "similarity of `star` and `earth`: 0.8168070603062217\n"
          ]
        }
      ],
      "source": [
        "import numpy as np\n",
        "def cosine_similarity(a, b):\n",
        "    return np.dot(a,b)/(np.linalg.norm(a)*np.linalg.norm(b))\n",
        "\n",
        "def word_similarity(word1, word2):\n",
        "    a=u[count_vect.vocabulary_[word1]]\n",
        "    b=u[count_vect.vocabulary_[word2]]\n",
        "    return cosine_similarity(a, b)\n",
        "\n",
        "print(f\"similarity of `god` and `jesus`: {word_similarity('god', 'jesus')}\")\n",
        "print(f\"similarity of `god` and `devil`: {word_similarity('god', 'devil')}\")\n",
        "print(f\"similarity of `god` and `soccer`: {word_similarity('god', 'soccer')}\")\n",
        "print(f\"similarity of `tiger` and `rabbit`: {word_similarity('tiger', 'rabbit')}\")\n",
        "print(f\"similarity of `tiger` and `earth`: {word_similarity('tiger', 'earth')}\")\n",
        "print(f\"similarity of `star` and `earth`: {word_similarity('star', 'earth')}\")"
      ]
    },
    {
      "cell_type": "markdown",
      "metadata": {
        "id": "z_tGsVoZ_6qN"
      },
      "source": [
        "## Plot Embeddings"
      ]
    },
    {
      "cell_type": "code",
      "execution_count": 8,
      "metadata": {
        "colab": {
          "base_uri": "https://localhost:8080/",
          "height": 442
        },
        "id": "6CONfoSU_6qN",
        "outputId": "b549bd74-8937-4010-e371-6ef19da8c4fb"
      },
      "outputs": [
        {
          "output_type": "display_data",
          "data": {
            "text/plain": [
              "<Figure size 640x480 with 1 Axes>"
            ],
            "image/png": "[encoded data removed]"
          },
          "metadata": {}
        }
      ],
      "source": [
        "import matplotlib.pyplot as plt\n",
        "plt.show()\n",
        "plt.scatter(np.abs(u[:,0]),np.abs(u[:,1]),s=10)\n",
        "plt.yscale('log')\n",
        "plt.xscale('log')\n",
        "plt.ylim(10 ** -8,1)\n",
        "plt.xlim(10 ** -10,1)\n",
        "def plot_word(word):\n",
        "    counter,word_index=0,0\n",
        "    myKeys = list(count_vect.vocabulary_.keys())\n",
        "    myKeys.sort()\n",
        "    sorted_dict = {i: count_vect.vocabulary_[i] for i in myKeys}\n",
        "    for w in sorted_dict.keys():\n",
        "        if(word==w):\n",
        "            word_index = counter\n",
        "        counter+=1\n",
        "    u1 = np.abs(u[word_index])\n",
        "    plt.scatter(u1[0],u1[1],color='red')\n",
        "    plt.annotate(word,(u1[0],u1[1]))\n",
        "\n",
        "\n",
        "# plot embeddings with norms less than 0.1\n",
        "plot_word('god')\n",
        "plot_word('jesus')\n",
        "plot_word('tiger')\n",
        "plot_word('rabbit')\n",
        "plot_word('star')\n",
        "plot_word('earth')\n",
        "# set x and y scales to logaritmic for better visualization"
      ]
    },
    {
      "cell_type": "markdown",
      "metadata": {
        "id": "5BnKnB9i_6qN"
      },
      "source": [
        "# Word2Vec (Optional)"
      ]
    },
    {
      "cell_type": "markdown",
      "metadata": {
        "id": "TJYaPKad_6qO"
      },
      "source": [
        "Word2Vec is a popular word embedding technique that involves the use of neural networks to learn word embeddings from large datasets. The Word2Vec model is trained on a large corpus of text, and the resulting word vectors demonstrate interesting semantic relationships between words. In this assignment, we'll explore the use of Word2Vec to learn word embeddings from the 20 newsgroups dataset.\n",
        "\n",
        "Word2Vec is mainly implemented in two ways: continuous bag-of-words (CBOW) and skip-gram. In this assignment, we'll use the CBOW model to train word embeddings on the 20 newsgroups dataset. CBOW predicts the current word based on a window of surrounding context words. The skip-gram model, on the other hand, predicts the surrounding context words based on the current word.\n",
        "\n",
        "![image.png](attachment:image.png)"
      ]
    },
    {
      "cell_type": "markdown",
      "metadata": {
        "id": "AirRNMaI_6qO"
      },
      "source": [
        "## Preprocessing"
      ]
    },
    {
      "cell_type": "markdown",
      "metadata": {
        "id": "kxZxtvvD_6qO"
      },
      "source": [
        "We'll remove stopwords and lemmatize the text data using the WordNetLemmatizer from the nltk package. We'll also remove punctuation and convert all text to lowercase.\n",
        "Then we create a list of windows of context words for each word in the corpus. The size of the window is a hyperparameter that can be tuned to improve the performance of the model. We'll use a window size of 2 for this assignment."
      ]
    },
    {
      "cell_type": "code",
      "execution_count": 9,
      "metadata": {
        "colab": {
          "base_uri": "https://localhost:8080/"
        },
        "id": "POsd5Qn2_6qO",
        "outputId": "8a6c9326-487b-4a6f-8785-55899956ffde"
      },
      "outputs": [
        {
          "output_type": "stream",
          "name": "stderr",
          "text": [
            "[nltk_data] Downloading package stopwords to /root/nltk_data...\n",
            "[nltk_data]   Package stopwords is already up-to-date!\n",
            "[nltk_data] Downloading package punkt to /root/nltk_data...\n",
            "[nltk_data]   Package punkt is already up-to-date!\n"
          ]
        }
      ],
      "source": [
        "from nltk.tokenize import word_tokenize\n",
        "from nltk.corpus import stopwords\n",
        "import nltk\n",
        "nltk.download('stopwords')\n",
        "nltk.download('punkt')\n",
        "\n",
        "def clean_data(train_data):\n",
        "    cleaned_words = []\n",
        "    words_index = {}\n",
        "    for text in train_data:\n",
        "        text = text.lower()\n",
        "        text = text.replace('\\n', ' ')\n",
        "        tokenized_data = word_tokenize(text)\n",
        "        stop_words = set(stopwords.words('english'))\n",
        "        stop_words.update(['.',',',':',';','(',')','#','--','...','\"'])\n",
        "        cleaned_words += [word for word in tokenized_data if word not in stop_words]\n",
        "    for word in cleaned_words:\n",
        "        if word not in words_index:\n",
        "            words_index[word] = len(words_index)\n",
        "    windows = []\n",
        "    for i in range(2, len(cleaned_words) - 2):\n",
        "        window = [cleaned_words[i - 2], cleaned_words[i - 1], cleaned_words[i + 1], cleaned_words[i + 2]]\n",
        "        window = [words_index[word] for word in window]\n",
        "        windows.append((window, words_index[cleaned_words[i]]))\n",
        "    return windows, words_index\n",
        "\n",
        "windows, words_index = clean_data(train.data)"
      ]
    },
    {
      "cell_type": "code",
      "execution_count": 15,
      "metadata": {
        "colab": {
          "base_uri": "https://localhost:8080/"
        },
        "id": "vA-Oi1lj_6qO",
        "outputId": "c7fff451-87ce-4146-e3d7-7a814ad1910d"
      },
      "outputs": [
        {
          "output_type": "execute_result",
          "data": {
            "text/plain": [
              "48081"
            ]
          },
          "metadata": {},
          "execution_count": 15
        }
      ],
      "source": [
        "len(words_index)"
      ]
    },
    {
      "cell_type": "code",
      "execution_count": 13,
      "metadata": {
        "id": "QyHZm50I_6qO"
      },
      "outputs": [],
      "source": [
        "import torch\n",
        "from torch.utils.data import Dataset, DataLoader\n",
        "\n",
        "# Assuming 'windows' is the list of windows and 'words_index' is the dictionary mapping words to their indices\n",
        "\n",
        "class CorpusWindows(Dataset):\n",
        "    def __init__(self, windows):\n",
        "        self.windows = windows\n",
        "\n",
        "    def __len__(self):\n",
        "        return len(self.windows)\n",
        "\n",
        "    def __getitem__(self, idx):\n",
        "        window, center_word = self.windows[idx]\n",
        "        return torch.tensor(window), torch.tensor(center_word)\n",
        "\n",
        "# Create a dataloader for windows\n",
        "batch_size = 64  # Set your desired batch size\n",
        "corpus_dataset = CorpusWindows(windows)\n",
        "train_loader = DataLoader(corpus_dataset, batch_size=batch_size, shuffle=True)"
      ]
    },
    {
      "cell_type": "code",
      "execution_count": 14,
      "metadata": {
        "id": "UwTfd8a6_6qO"
      },
      "outputs": [],
      "source": [
        "from torch import nn\n",
        "\n",
        "class CBOW(nn.Module):\n",
        "    def __init__(self, vocab_size, embedding_dim):\n",
        "        super(CBOW, self).__init__()\n",
        "        self.embeddings = nn.Embedding(vocab_size, embedding_dim)\n",
        "        self.linear = nn.Linear(embedding_dim, vocab_size)\n",
        "\n",
        "    def forward(self, inputs):\n",
        "        embedded = self.embeddings(inputs).sum(dim=1)\n",
        "        output = self.linear(embedded)\n",
        "        return output\n",
        "\n",
        "    def get_embeddings(self):\n",
        "        return self.embeddings.weight\n",
        "\n",
        "    def get_word_emdedding(self, word):\n",
        "        word_idx = words_index[word]\n",
        "        return self.embeddings(torch.tensor(word_idx)).detach().numpy()\n"
      ]
    },
    {
      "cell_type": "code",
      "execution_count": 15,
      "metadata": {
        "colab": {
          "base_uri": "https://localhost:8080/"
        },
        "id": "ut4Fhgt9_6qP",
        "outputId": "117a37be-c7c8-4cda-d5ea-68aeb77f3909"
      },
      "outputs": [
        {
          "output_type": "stream",
          "name": "stderr",
          "text": [
            "100%|██████████| 8812/8812 [04:39<00:00, 31.51it/s, loss=9.71e+4]\n"
          ]
        }
      ],
      "source": [
        "from tqdm import tqdm, trange\n",
        "\n",
        "device = torch.device('cuda' if torch.cuda.is_available() else 'cpu')\n",
        "vocab_size = len(words_index)\n",
        "embedding_dim = 2\n",
        "model = CBOW(vocab_size, embedding_dim)\n",
        "model.to(device)\n",
        "criterion = nn.CrossEntropyLoss()\n",
        "optimizer = torch.optim.SGD(model.parameters(), lr=0.01)\n",
        "\n",
        "total_loss = 0\n",
        "pbar = tqdm(train_loader)\n",
        "for context, target in pbar:\n",
        "    context, target = context.to(device), target.to(device)  # Move context and target to device\n",
        "    optimizer.zero_grad()  # Zero the gradients\n",
        "    output = model(context)  # Forward pass\n",
        "    loss = criterion(output, target)  # Compute the loss\n",
        "    loss.backward()  # Backward pass\n",
        "    optimizer.step()  # Update parameters\n",
        "    total_loss += loss.item()  # Update total_loss\n",
        "    pbar.set_postfix({'loss': total_loss})  # Update progress bar"
      ]
    },
    {
      "cell_type": "code",
      "execution_count": 35,
      "metadata": {
        "colab": {
          "base_uri": "https://localhost:8080/",
          "height": 453
        },
        "id": "-C5hgNfI_6qP",
        "outputId": "a6493e42-dfcd-42ab-b3b8-4e2cc3ca92ce"
      },
      "outputs": [
        {
          "output_type": "stream",
          "name": "stdout",
          "text": [
            "(48081, 2)\n"
          ]
        },
        {
          "output_type": "display_data",
          "data": {
            "text/plain": [
              "<Figure size 640x480 with 1 Axes>"
            ],
            "image/png": "[encoded data removed]"
          },
          "metadata": {}
        }
      ],
      "source": [
        "import matplotlib.pyplot as plt\n",
        "\n",
        "embeddings = model.embeddings.weight.data.cpu().numpy()\n",
        "\n",
        "def plot_word(word):\n",
        "    idx = words_index[word]\n",
        "    word_vector = embeddings[idx]\n",
        "    plt.scatter(word_vector[0], word_vector[1])\n",
        "    plt.text(word_vector[0], word_vector[1], word)\n",
        "\n",
        "print(embeddings.shape)\n",
        "plt.ylim(-4,4)\n",
        "plt.xlim(-4,4)\n",
        "plot_word('god')\n",
        "plot_word('jesus')\n",
        "plot_word('tiger')\n",
        "plot_word('rabbit')\n",
        "plot_word('star')\n",
        "plot_word('earth')\n",
        "plt.show()\n",
        "\n"
      ]
    }
  ],
  "metadata": {
    "kernelspec": {
      "display_name": "Python 3",
      "language": "python",
      "name": "python3"
    },
    "language_info": {
      "codemirror_mode": {
        "name": "ipython",
        "version": 3
      },
      "file_extension": ".py",
      "mimetype": "text/x-python",
      "name": "python",
      "nbconvert_exporter": "python",
      "pygments_lexer": "ipython3",
      "version": "3.9.13"
    },
    "colab": {
      "provenance": []
    }
  },
  "nbformat": 4,
  "nbformat_minor": 0
}